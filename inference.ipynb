{
 "cells": [
  {
   "cell_type": "markdown",
   "id": "9e8ad221-f337-41aa-b078-01ddccc3db6f",
   "metadata": {},
   "source": [
    "# Libraries"
   ]
  },
  {
   "cell_type": "code",
   "execution_count": null,
   "id": "a882209b-dcf6-471d-869a-9f4aef9f880b",
   "metadata": {},
   "outputs": [],
   "source": [
    "import sys\n",
    "sys.path.append('utility_box/')\n",
    "from cpath import WSI, CPDataset\n",
    "from load import save_geojson, load_pickle\n",
    "from shapely_utils import Polygon, MultiPolygon\n",
    "from shapely_utils import loads, make_valid, mapping\n",
    "from torch_gpu_utils import get_device, get_gpu_memory_info\n",
    "from ocv import process_contour_hierarchy,get_parent_daughter_idx_map\n",
    "from image_utils import plot_image, extract_patches_with_coordinates, scale_mpp\n",
    "\n",
    "import torch\n",
    "import torch.nn.functional as F\n",
    "from torch.utils.data import DataLoader\n",
    "\n",
    "import cv2\n",
    "import geojson\n",
    "import numpy as np\n",
    "import pandas as pd\n",
    "from pathlib import Path\n",
    "from tqdm.auto import tqdm\n",
    "from tifffile import imread\n",
    "\n",
    "import segmentation_models_pytorch as smp"
   ]
  },
  {
   "cell_type": "code",
   "execution_count": null,
   "id": "9071836f-800e-429f-a943-0daa6861cd4b",
   "metadata": {},
   "outputs": [],
   "source": [
    "def wkt_to_geojson(wkt_string): \n",
    "    poly=loads(wkt_string)\n",
    "    poly=make_valid(poly)\n",
    "    geojson_feature = geojson.Feature(geometry=mapping(poly))\n",
    "    return geojson_feature"
   ]
  },
  {
   "cell_type": "code",
   "execution_count": null,
   "id": "5fd855d0-0dbe-4fbd-9236-dddeef175130",
   "metadata": {},
   "outputs": [],
   "source": [
    "def inference_logic(model, device, patch_size, patches, batch_size):\n",
    "    \n",
    "    patches = torch.tensor(patches).float()\n",
    "    patches = patches.permute(0, 3, 1, 2)\n",
    "    dataloader = DataLoader(patches, batch_size=batch_size, shuffle=False, num_workers=4)\n",
    "    \n",
    "    preds=torch.empty((len(patches), patch_size, patch_size), device=device)\n",
    "    model.eval()\n",
    "    \n",
    "    with torch.inference_mode():\n",
    "        index = 0\n",
    "        for batch in tqdm(dataloader):\n",
    "            batch = batch.to(device)\n",
    "            pred = model(batch/255)\n",
    "            \n",
    "            preds[index:index + batch_size] = pred.squeeze(1)\n",
    "            index += batch_size\n",
    "\n",
    "    torch.cuda.empty_cache()\n",
    "    return preds"
   ]
  },
  {
   "cell_type": "code",
   "execution_count": null,
   "id": "e7c0677f-e474-4046-a251-2186aa26247d",
   "metadata": {},
   "outputs": [],
   "source": [
    "from shapely.ops import unary_union\n",
    "def compute_iou(multipolygon1, multipolygon2):\n",
    "    # Compute intersection and union of two MultiPolygons\n",
    "    intersection = multipolygon1.intersection(multipolygon2)\n",
    "    union = unary_union([multipolygon1, multipolygon2])\n",
    "    \n",
    "    # Calculate areas\n",
    "    intersection_area = intersection.area\n",
    "    union_area = union.area\n",
    "    \n",
    "    # Compute IoU (Intersection over Union)\n",
    "    iou = intersection_area / union_area if union_area != 0 else 0\n",
    "    return iou\n",
    "\n",
    "def compute_dice(multipolygon1, multipolygon2):\n",
    "\n",
    "    # Compute intersection\n",
    "    intersection = multipolygon1.intersection(multipolygon2)\n",
    "    \n",
    "    # Calculate areas\n",
    "    intersection_area = intersection.area\n",
    "    area1 = multipolygon1.area\n",
    "    area2 = multipolygon2.area\n",
    "    \n",
    "    # Compute Dice score\n",
    "    dice = (2 * intersection_area) / (area1 + area2) if (area1 + area2) != 0 else 0\n",
    "    return dice"
   ]
  },
  {
   "cell_type": "code",
   "execution_count": null,
   "id": "e1b92c4d-20e7-423c-8a48-63c2e1b8fe10",
   "metadata": {},
   "outputs": [],
   "source": [
    "state_dict_path='/workspace/code/NodeSeg/model_logs/smp_unet_500epochs_run2/model_check_points/max_val/checkpoint_epoch305_0.9842888563871384.pth'"
   ]
  },
  {
   "cell_type": "code",
   "execution_count": null,
   "id": "221648e9-a161-4bea-88f6-9932e827c787",
   "metadata": {},
   "outputs": [],
   "source": [
    "device = get_device(0)"
   ]
  },
  {
   "cell_type": "code",
   "execution_count": null,
   "id": "6b84342b-389c-4feb-b0c9-a965f90a24ef",
   "metadata": {},
   "outputs": [],
   "source": [
    "n_classes=1\n",
    "model = smp.Unet(\n",
    "    encoder_name=\"resnet34\",        # choose encoder, e.g. mobilenet_v2 or efficientnet-b7\n",
    "    encoder_weights=\"imagenet\",     # use `imagenet` pre-trained weights for encoder initialization\n",
    "    in_channels=3,                  # model input channels (1 for gray-scale images, 3 for RGB, etc.)\n",
    "    classes=n_classes,                      # model output channels (number of classes in your dataset)\n",
    ")\n",
    "model.to(device);\n",
    "model=model.to(memory_format=torch.channels_last)\n",
    "\n",
    "state_dict=torch.load(state_dict_path, weights_only=True)\n",
    "\n",
    "model.load_state_dict(state_dict)"
   ]
  },
  {
   "cell_type": "code",
   "execution_count": null,
   "id": "1879880c-7bd6-4590-86c5-709c48533cdf",
   "metadata": {},
   "outputs": [],
   "source": [
    "target_mpp=1\n",
    "\n",
    "batch_size=4\n",
    "target_mpp=1\n",
    "patch_size=512 \n",
    "overlap=128\n",
    "\n",
    "scale, rescale = scale_mpp(0.25, target_mpp)"
   ]
  },
  {
   "cell_type": "code",
   "execution_count": null,
   "id": "4a21c308-0afa-45e7-b117-c623f0592799",
   "metadata": {},
   "outputs": [],
   "source": [
    "wsi_path=Path('/workspace/data/PublicDatasets/CAMELYON17/images/patient_012_node_0.tif')\n",
    "true_geom_dicts=load_pickle(\"/workspace/data/PublicDatasets/CAMELYON17/tumor_geoms/patient_012_node_0.pkl\")\n",
    "#wsi_path=Path('/workspace/data/PublicDatasets/CAMELYON17/images/patient_009_node_1.tif')\n",
    "#true_geom_dicts=load_pickle(\"/workspace/data/PublicDatasets/CAMELYON17/tumor_geoms/patient_009_node_1.pkl\")"
   ]
  },
  {
   "cell_type": "code",
   "execution_count": null,
   "id": "05415b79-63cb-4b9d-af14-fd639fd84eb4",
   "metadata": {},
   "outputs": [],
   "source": [
    "wsi= imread(wsi_path)\n",
    "scaled_wsi=cv2.resize(wsi, (tuple(((np.array(wsi.shape[:2])*scale)[::-1]).astype(int))))"
   ]
  },
  {
   "cell_type": "code",
   "execution_count": null,
   "id": "41f3cd58-da1a-4ddd-a79d-ddc0d5c102dc",
   "metadata": {},
   "outputs": [],
   "source": [
    "patches, coordinates = extract_patches_with_coordinates(scaled_wsi,(patch_size, patch_size), (overlap,overlap))"
   ]
  },
  {
   "cell_type": "code",
   "execution_count": null,
   "id": "d10e121c-b08e-4f15-906f-e951bb513db6",
   "metadata": {},
   "outputs": [],
   "source": [
    "preds=inference_logic(model, device, patch_size, patches, batch_size)"
   ]
  },
  {
   "cell_type": "code",
   "execution_count": null,
   "id": "f9250bcd-890f-46e4-a20e-c314a508f7e8",
   "metadata": {},
   "outputs": [],
   "source": [
    "true_geoms=[geom_dict['geom'] for geom_dict in true_geom_dicts]\n",
    "true_mgeoms=make_valid(MultiPolygon(true_geoms))"
   ]
  },
  {
   "cell_type": "code",
   "execution_count": null,
   "id": "3d84d3b9-68b4-48fa-a0cf-f1cc397da1dc",
   "metadata": {
    "scrolled": true
   },
   "outputs": [],
   "source": [
    "prob_thresh=0.8\n",
    "thresh_masks=[]\n",
    "for pred_mask in tqdm(preds):\n",
    "    thresh_mask = (F.sigmoid(pred_mask)> prob_thresh).to('cpu').numpy().astype(np.uint8)\n",
    "    thresh_masks.append(thresh_mask)\n",
    "        \n",
    "full_mask=np.zeros((scaled_wsi.shape[:2]), dtype=np.uint8)\n",
    "for coord, thresh_mask in zip(tqdm(coordinates), thresh_masks):\n",
    "    x,y=coord\n",
    "    delta=overlap//4\n",
    "    full_mask[x+delta:x+patch_size-delta, y+delta:y+patch_size-delta]=thresh_mask[delta:-delta, delta:-delta]"
   ]
  },
  {
   "cell_type": "code",
   "execution_count": null,
   "id": "fc3aa5cd-b07d-4ed7-bdc3-827ac8b0a1ff",
   "metadata": {},
   "outputs": [],
   "source": [
    "#full_mask=cv2.erode(full_mask, (5,5), iterations=1)\n",
    "full_mask=cv2.medianBlur(full_mask, 3)"
   ]
  },
  {
   "cell_type": "code",
   "execution_count": null,
   "id": "b7ff9d5e-4fa8-4e82-a36a-8814542818b7",
   "metadata": {},
   "outputs": [],
   "source": [
    "contours, hierarchy = cv2.findContours(full_mask, cv2.RETR_TREE,cv2.CHAIN_APPROX_SIMPLE)\n",
    "idx_map=get_parent_daughter_idx_map(contours, hierarchy )"
   ]
  },
  {
   "cell_type": "code",
   "execution_count": null,
   "id": "7cea15a8-3cd6-42c0-bf36-851dd334d704",
   "metadata": {},
   "outputs": [],
   "source": [
    "geoms=[]\n",
    "for contour_idx, holes_idx in tqdm(idx_map.items()):\n",
    "    contour = contours[contour_idx].copy()\n",
    "    if contour.shape[0]<4:\n",
    "        continue\n",
    "    contour = (contour*rescale).squeeze(1)\n",
    "    geom=Polygon(contour).buffer(1)\n",
    "    geoms.append(geom)"
   ]
  },
  {
   "cell_type": "code",
   "execution_count": null,
   "id": "c8c620d4-6023-493e-b217-9250d47383e8",
   "metadata": {},
   "outputs": [],
   "source": [
    "plot_image(cv2.resize(full_mask,  (tuple(((np.array(wsi.shape[:2])/100)[::-1]).astype(int)))))"
   ]
  },
  {
   "cell_type": "code",
   "execution_count": null,
   "id": "2ce7bb30-f272-481d-b9ef-5a799b3b72a1",
   "metadata": {},
   "outputs": [],
   "source": [
    "compute_iou(true_mgeoms, MultiPolygon(geoms).buffer(0))"
   ]
  },
  {
   "cell_type": "code",
   "execution_count": null,
   "id": "a5c3ce57-5e3f-44fd-a28d-9ccae6e36ce5",
   "metadata": {},
   "outputs": [],
   "source": [
    "geojson_features=[]\n",
    "for geom in tqdm(geoms):\n",
    "    geojson_feature = geojson.Feature(geometry=mapping(geom))\n",
    "    geojson_features.append(geojson_feature)\n",
    "\n",
    "geojson_feature_collection = geojson.FeatureCollection(geojson_features)\n",
    "save_geojson(f\"{wsi_path.stem}.geojson\", geojson_feature_collection)"
   ]
  },
  {
   "cell_type": "markdown",
   "id": "aebc50a0-d80f-4309-ba1d-fce22e829064",
   "metadata": {},
   "source": [
    "# Fine Tune Threshold"
   ]
  },
  {
   "cell_type": "code",
   "execution_count": null,
   "id": "46b5dea9-8088-4f77-9b8d-e0bde75f3d16",
   "metadata": {},
   "outputs": [],
   "source": [
    "fine_tune_thresh=[]\n",
    "for prob_thresh in np.arange(0.5,1,0.05):\n",
    "    thresh_masks=[]\n",
    "    for pred_mask in tqdm(preds):\n",
    "        thresh_mask = (F.sigmoid(pred_mask)> prob_thresh).to('cpu').numpy().astype(np.uint8)\n",
    "        thresh_masks.append(thresh_mask)\n",
    "            \n",
    "    full_mask=np.zeros((scaled_wsi.shape[:2]), dtype=np.uint8)\n",
    "    for coord, thresh_mask in zip(tqdm(coordinates), thresh_masks):\n",
    "        x,y=coord\n",
    "        delta=overlap//2\n",
    "        full_mask[x+delta:x+patch_size-delta, y+delta:y+patch_size-delta]=thresh_mask[delta:-delta, delta:-delta]\n",
    "    full_mask=cv2.medianBlur(full_mask, 5)\n",
    "\n",
    "    contours, hierarchy = cv2.findContours(full_mask, cv2.RETR_TREE,cv2.CHAIN_APPROX_SIMPLE)\n",
    "    idx_map=get_parent_daughter_idx_map(contours, hierarchy )\n",
    "\n",
    "    geoms=[]\n",
    "    for contour_idx, holes_idx in tqdm(idx_map.items()):\n",
    "        contour = contours[contour_idx].copy()\n",
    "        if contour.shape[0]<4:\n",
    "            continue\n",
    "        contour = (contour*rescale).squeeze(1)\n",
    "        geom=Polygon(contour).buffer(1)\n",
    "        geoms.append(geom)\n",
    "\n",
    "    temp_dict={}\n",
    "    temp_dict['prob_thresh']=prob_thresh\n",
    "    temp_dict['dice']= compute_dice(true_mgeoms, MultiPolygon(geoms).buffer(0))\n",
    "\n",
    "    fine_tune_thresh.append(temp_dict)\n",
    "    print(f\"{prob_thresh}-->{temp_dict['dice']}\")"
   ]
  }
 ],
 "metadata": {
  "kernelspec": {
   "display_name": "Python 3 (ipykernel)",
   "language": "python",
   "name": "python3"
  },
  "language_info": {
   "codemirror_mode": {
    "name": "ipython",
    "version": 3
   },
   "file_extension": ".py",
   "mimetype": "text/x-python",
   "name": "python",
   "nbconvert_exporter": "python",
   "pygments_lexer": "ipython3",
   "version": "3.10.12"
  }
 },
 "nbformat": 4,
 "nbformat_minor": 5
}
